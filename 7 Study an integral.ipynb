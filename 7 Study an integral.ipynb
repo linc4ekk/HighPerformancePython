{
  "nbformat": 4,
  "nbformat_minor": 5,
  "metadata": {
    "kernelspec": {
      "display_name": "Python 3 (ipykernel)",
      "language": "python",
      "name": "python3"
    },
    "language_info": {
      "codemirror_mode": {
        "name": "ipython",
        "version": 3
      },
      "file_extension": ".py",
      "mimetype": "text/x-python",
      "name": "python",
      "nbconvert_exporter": "python",
      "pygments_lexer": "ipython3",
      "version": "3.8.10"
    },
    "colab": {
      "name": "TASK_7.ipynb",
      "provenance": []
    }
  },
  "cells": [
    {
      "cell_type": "markdown",
      "metadata": {
        "id": "cebce37c"
      },
      "source": [
        "# Define functions"
      ],
      "id": "cebce37c"
    },
    {
      "cell_type": "code",
      "metadata": {
        "colab": {
          "base_uri": "https://localhost:8080/"
        },
        "id": "QpUk_fkTXTb6",
        "outputId": "5772ca38-9267-4ab1-c7af-7e78a0e849b2"
      },
      "source": [
        "pip install mpi4py"
      ],
      "id": "QpUk_fkTXTb6",
      "execution_count": 6,
      "outputs": [
        {
          "output_type": "stream",
          "name": "stdout",
          "text": [
            "Requirement already satisfied: mpi4py in /usr/local/lib/python3.7/dist-packages (3.1.3)\n"
          ]
        }
      ]
    },
    {
      "cell_type": "code",
      "metadata": {
        "id": "aee8b6a0",
        "colab": {
          "base_uri": "https://localhost:8080/"
        },
        "outputId": "ca3cbb85-8e0d-4909-859e-ada904d29d82"
      },
      "source": [
        "%%writefile Integral.py\n",
        "import numpy as np\n",
        "from mpi4py import MPI\n",
        "import matplotlib.pyplot as plt\n",
        "\n",
        "def function(x):\n",
        "    return 1 / np.sqrt(1 + x ** 2)\n",
        "\n",
        "\n",
        "def process_point(x):\n",
        "\n",
        "    I_summ = 0\n",
        "    for i in range(1, len(x)):\n",
        "      I_summ = I_summ + (function(x[i]) + function(x[i-1]))/2 * (x[i] - x[i-1])\n",
        "    return I_summ\n",
        "\n",
        "comm = MPI.COMM_WORLD\n",
        "rank = comm.Get_rank()\n",
        "size = comm.Get_size()\n",
        "number_processes = comm.Get_size()\n",
        "\n",
        "x = np.linspace(0,10,10**6)\n",
        "\n",
        "processes_array = []\n",
        "\n",
        "array_size = round(len(x)/number_processes)\n",
        "\n",
        "for i in range(number_processes):\n",
        "  one_process_array = x[i*array_size:(i+1)*array_size]\n",
        "  processes_array.append(one_process_array)\n",
        "\n",
        "\n",
        "x = np.linspace(0,10,10)\n",
        "\n",
        "i = rank\n",
        "\n",
        "sum_at_one_point = process_point(processes_array[i])\n",
        "\n",
        "x_r_final = comm.gather(sum_at_one_point, root=0)\n",
        "\n",
        "if rank == 0:\n",
        "  print(x_r_final)\n"
      ],
      "id": "aee8b6a0",
      "execution_count": 7,
      "outputs": [
        {
          "output_type": "stream",
          "name": "stdout",
          "text": [
            "Overwriting Integral.py\n"
          ]
        }
      ]
    },
    {
      "cell_type": "code",
      "metadata": {
        "id": "YfsmtZdDawAU"
      },
      "source": [
        ""
      ],
      "id": "YfsmtZdDawAU",
      "execution_count": null,
      "outputs": []
    }
  ]
}