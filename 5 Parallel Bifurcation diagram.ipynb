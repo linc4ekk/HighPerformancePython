{
 "cells": [
  {
   "cell_type": "code",
   "execution_count": null,
   "metadata": {
    "id": "R7IDKB3KEatO"
   },
   "outputs": [],
   "source": [
    "import mpi4py\n",
    "import numpy as np\n",
    "import matplotlib.pyplot as plt"
   ]
  },
  {
   "cell_type": "code",
   "execution_count": null,
   "metadata": {
    "ExecuteTime": {
     "end_time": "2021-11-28T13:41:05.796605Z",
     "start_time": "2021-11-28T13:41:05.775273Z"
    },
    "colab": {
     "base_uri": "https://localhost:8080/"
    },
    "id": "pdOzyYEEPWql",
    "outputId": "6b41bfdc-62aa-44ae-b7c2-ea2487dc3092"
   },
   "outputs": [
    {
     "name": "stdout",
     "output_type": "stream",
     "text": [
      "Overwriting Bifurcation_map.py\n"
     ]
    }
   ],
   "source": [
    "%%writefile Bifurcation_map.py\n",
    "\n",
    "from mpi4py import MPI\n",
    "from random import uniform\n",
    "import numpy as np\n",
    "from datetime import datetime\n",
    "\n",
    "def logfun(r, x):\n",
    "    y = r*x*(1-x)\n",
    "    return y\n",
    "\n",
    "\n",
    "startTime = datetime.now()\n",
    "comm = MPI.COMM_WORLD\n",
    "size = comm.Get_size()\n",
    "rank = comm.Get_rank()\n",
    "\n",
    "n = 500\n",
    "m = 100\n",
    "r_n = 5000\n",
    "r_s = np.linspace(2, 4, r_n)\n",
    "x_s = uniform(0, 1) * np.ones(len(r_s))\n",
    "index = np.linspace(0, len(r_s), size + 1, endpoint=False, dtype=int)\n",
    "index[-1] = len(r_s)\n",
    "\n",
    "x_ss = []\n",
    "r = r_s[index[rank]:index[rank+1]]\n",
    "x = x_s[index[rank]:index[rank+1]]\n",
    "\n",
    "for i in range(n):\n",
    "    x = logfun(r, x)\n",
    "    if i >= n - m:\n",
    "        x_ss.append(x)\n",
    "\n",
    "full_data = comm.gather([x_ss, r], root=0)\n",
    "\n",
    "if rank == 0:\n",
    "    print(datetime.now() - startTime)"
   ]
  },
  {
   "cell_type": "code",
   "execution_count": null,
   "metadata": {
    "ExecuteTime": {
     "end_time": "2021-11-28T13:37:14.318626Z",
     "start_time": "2021-11-28T13:37:14.316482Z"
    },
    "colab": {
     "base_uri": "https://localhost:8080/"
    },
    "id": "npgqY8BbPoCk",
    "outputId": "4ed720c7-1bc7-4116-a79d-f00effa30432"
   },
   "outputs": [
    {
     "name": "stdout",
     "output_type": "stream",
     "text": [
      "Requirement already satisfied: mpi4py in /usr/local/lib/python3.7/dist-packages (3.1.3)\n"
     ]
    }
   ],
   "source": [
    " !pip install mpi4py"
   ]
  },
  {
   "cell_type": "code",
   "execution_count": null,
   "metadata": {
    "colab": {
     "base_uri": "https://localhost:8080/"
    },
    "id": "3Mu9-g6pRmsh",
    "outputId": "1372134a-5102-4204-9d31-ac41b094ce65"
   },
   "outputs": [
    {
     "name": "stdout",
     "output_type": "stream",
     "text": [
      "0.021389\n",
      "0.022376\n",
      "0.086565\n",
      "0.118703\n",
      "0.126586\n",
      "0.115682\n",
      "0.072754\n",
      "0.060879\n",
      "0.107585\n",
      "0.082182\n",
      "0.093897\n",
      "0.102795\n",
      "0.137864\n",
      "0.127007\n",
      "0.121762\n"
     ]
    }
   ],
   "source": [
    "pr = np.arange(1, 16)\n",
    "bif_time = []\n",
    "\n",
    "for i in pr:\n",
    "    time = !mpiexec --allow-run-as-root -np {i} python Bifurcation_map.py \n",
    "    bif_time.append(float(time[0][-8:]))\n",
    "    print (time[0][-8:])"
   ]
  },
  {
   "cell_type": "code",
   "execution_count": null,
   "metadata": {
    "colab": {
     "base_uri": "https://localhost:8080/",
     "height": 392
    },
    "id": "9M6pS7-VDkmB",
    "outputId": "e12c3f08-b5e2-4237-9985-0ba60222df76"
   },
   "outputs": [
    {
     "data": {
      "image/png": "[encoded data removed]",
      "text/plain": [
       "<Figure size 1080x432 with 1 Axes>"
      ]
     },
     "metadata": {
      "needs_background": "light"
     },
     "output_type": "display_data"
    }
   ],
   "source": [
    "plt.figure(figsize=(15, 6))\n",
    "plt.plot(pr, bif_time[0] / np.array(bif_time))\n",
    "plt.xlabel('Number of processes', size=14)\n",
    "plt.ylabel('Speedup', size=14)\n",
    "plt.grid(True);"
   ]
  },
  {
   "cell_type": "code",
   "execution_count": null,
   "metadata": {
    "id": "idASvMOoEpY-"
   },
   "outputs": [],
   "source": []
  }
 ],
 "metadata": {
  "colab": {
   "collapsed_sections": [],
   "name": "mpi_bifurcation_spectrogram.ipynb",
   "provenance": []
  },
  "kernelspec": {
   "display_name": "Python 3",
   "language": "python",
   "name": "python3"
  },
  "language_info": {
   "codemirror_mode": {
    "name": "ipython",
    "version": 3
   },
   "file_extension": ".py",
   "mimetype": "text/x-python",
   "name": "python",
   "nbconvert_exporter": "python",
   "pygments_lexer": "ipython3",
   "version": "3.8.5"
  }
 },
 "nbformat": 4,
 "nbformat_minor": 1
}
