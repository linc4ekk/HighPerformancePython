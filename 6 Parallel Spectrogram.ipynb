{
  "nbformat": 4,
  "nbformat_minor": 0,
  "metadata": {
    "colab": {
      "name": "mpi_bifurcation_spectrogram.ipynb",
      "provenance": [],
      "collapsed_sections": []
    },
    "kernelspec": {
      "display_name": "Python 3",
      "language": "python",
      "name": "python3"
    },
    "language_info": {
      "codemirror_mode": {
        "name": "ipython",
        "version": 3
      },
      "file_extension": ".py",
      "mimetype": "text/x-python",
      "name": "python",
      "nbconvert_exporter": "python",
      "pygments_lexer": "ipython3",
      "version": "3.8.5"
    }
  },
  "cells": [
    {
      "cell_type": "code",
      "metadata": {
        "colab": {
          "base_uri": "https://localhost:8080/"
        },
        "id": "WZMrTK64fUgw",
        "outputId": "5956616b-ca93-4252-afd3-b00d23eb1e97"
      },
      "source": [
        "%%writefile Spectrogram.py\n",
        "\n",
        "# import matplotlib.pyplot as plt\n",
        "import numpy as np\n",
        "from datetime import datetime \n",
        "from numpy import fft \n",
        "from numpy import exp, pi\n",
        "from mpi4py import MPI\n",
        "\n",
        "def signal(n_timestamps = 4096):\n",
        "    t = np.linspace(-20*2*pi, 20*2*pi, n_timestamps)\n",
        "    y = np.sin(t)*exp(-t**2/2/20**2)               # generate first  wave packets of harmonic signal\n",
        "    y = y + np.sin(3*t)*exp(-(t-5*2*pi)**2/2/20**2)  # add      second wave packets of harmonic signal\n",
        "    y = y + np.sin(5*t)*exp(-(t-10*2*pi)**2/2/10**2) # add      third  wave packets of harmonic signal\n",
        "    y = y + np.sin(4*t)*exp(-(t-7*2*pi)**2/2/20**2)\n",
        "    \n",
        "    return t, y\n",
        "\n",
        "def window_function(t, window_position, window_width):\n",
        "    return exp(-(t - window_position)**2/2/window_width**2)\n",
        "\n",
        "def get_specgram_data_t_window_positions(t, y, t_window_positions, window_width, nwindowsteps=1000):\n",
        "    specgram = np.empty([len(t), len(t_window_positions)])\n",
        "\n",
        "    for i,t_window_position in enumerate(t_window_positions):\n",
        "        y_window = y*window_function(t, t_window_position, window_width)\n",
        "        specgram[:, i]=abs(fft.fft(y_window))\n",
        "\n",
        "    return specgram\n",
        "\n",
        "def fig(x, y, z, title, xlabel, ylabel, grid_active=False, fig_x_size=15, fig_y_size=10, font_param=20):\n",
        "    w = fft.fftfreq(len(y), d=(t[1]-t[0])/2/pi)\n",
        "    plt.figure(figsize=(fig_x_size, fig_y_size))\n",
        "    plt.imshow(z, aspect='auto', origin='lower', \n",
        "               extent=[min(x)/2/pi, max(x)/2/pi, y[0], 2 * w[int(len(x)/2)-1]])\n",
        "    cbar = plt.colorbar()\n",
        "    cbar.ax.tick_params(labelsize=font_param)\n",
        "    plt.title(title, fontsize = font_param * 1.3)\n",
        "    plt.xlabel(xlabel, fontsize = font_param)\n",
        "    plt.ylabel(ylabel, fontsize = font_param)\n",
        "    plt.xticks(fontsize = font_param)\n",
        "    plt.yticks(fontsize = font_param)\n",
        "    plt.grid(grid_active)\n",
        "    plt.ylim(0, 10)\n",
        "    plt.savefig(title+'.png', bbox_inches='tight', dpi=300)\n",
        "\n",
        "    \n",
        "startTime = datetime.now()    \n",
        "comm = MPI.COMM_WORLD\n",
        "rank = comm.Get_rank()\n",
        "nprocs = comm.Get_size()\n",
        "\n",
        "t, y = signal(50000)\n",
        "t_window_positions = np.linspace(-20*2*pi, 20*2*pi, 1000)\n",
        "slice_index = np.linspace(0, t_window_positions.shape[0], nprocs+1, endpoint=False, dtype=int)\n",
        "slice_index[-1] = t_window_positions.shape[0]\n",
        "spectrogram = get_specgram_data_t_window_positions(t, y, \n",
        "                                t_window_positions[slice_index[rank]:slice_index[rank+1]],\n",
        "                                window_width=20, nwindowsteps=1000)\n",
        "\n",
        "data_from_proc = comm.gather(spectrogram, root=0)\n",
        "\n",
        "if rank == 0:\n",
        "    res_spectrogram = np.hstack(data_from_proc)\n",
        "    print(datetime.now() - startTime)"
      ],
      "execution_count": 7,
      "outputs": [
        {
          "output_type": "stream",
          "name": "stdout",
          "text": [
            "Writing Spectrogram.py\n"
          ]
        }
      ]
    },
    {
      "cell_type": "code",
      "metadata": {
        "colab": {
          "base_uri": "https://localhost:8080/"
        },
        "id": "hSdRMv11ge_H",
        "outputId": "a5b2a0d6-6bc6-4737-f845-192ce768d3ee"
      },
      "source": [
        "!pip install mpi4py"
      ],
      "execution_count": 2,
      "outputs": [
        {
          "output_type": "stream",
          "name": "stdout",
          "text": [
            "Collecting mpi4py\n",
            "  Downloading mpi4py-3.1.3.tar.gz (2.5 MB)\n",
            "\u001b[K     |████████████████████████████████| 2.5 MB 5.2 MB/s \n",
            "\u001b[?25h  Installing build dependencies ... \u001b[?25l\u001b[?25hdone\n",
            "  Getting requirements to build wheel ... \u001b[?25l\u001b[?25hdone\n",
            "    Preparing wheel metadata ... \u001b[?25l\u001b[?25hdone\n",
            "Building wheels for collected packages: mpi4py\n",
            "  Building wheel for mpi4py (PEP 517) ... \u001b[?25l\u001b[?25hdone\n",
            "  Created wheel for mpi4py: filename=mpi4py-3.1.3-cp37-cp37m-linux_x86_64.whl size=2185324 sha256=f6a40ac48dc9dd77aa3080180c33153eb9502524cdaaf0d2981be9f4fa7b4720\n",
            "  Stored in directory: /root/.cache/pip/wheels/7a/07/14/6a0c63fa2c6e473c6edc40985b7d89f05c61ff25ee7f0ad9ac\n",
            "Successfully built mpi4py\n",
            "Installing collected packages: mpi4py\n",
            "Successfully installed mpi4py-3.1.3\n"
          ]
        }
      ]
    },
    {
      "cell_type": "code",
      "metadata": {
        "colab": {
          "base_uri": "https://localhost:8080/"
        },
        "id": "4WYq1wXgJsoy",
        "outputId": "ffda76b6-d490-485a-8eea-76683dd4bc0d"
      },
      "source": [
        "import mpi4py\n",
        "import numpy as np\n",
        "import matplotlib.pyplot as plt\n",
        "pr = np.arange(1, 16)\n",
        "sp_time = []\n",
        "\n",
        "for i in pr:\n",
        "    time = !mpiexec --allow-run-as-root -np {i} python Spectrogram.py\n",
        "    sp_time.append(float(time[0][-8:]))\n",
        "    print (time[0][-8:])"
      ],
      "execution_count": 11,
      "outputs": [
        {
          "output_type": "stream",
          "name": "stdout",
          "text": [
            "5.427100\n",
            "5.445262\n",
            "5.895674\n",
            "6.674186\n",
            "7.222794\n",
            "7.353419\n",
            "7.905567\n",
            "7.650960\n",
            "8.038697\n",
            "8.193297\n",
            "8.471323\n",
            "8.787670\n",
            "8.913600\n",
            "9.078092\n",
            "9.141319\n"
          ]
        }
      ]
    },
    {
      "cell_type": "code",
      "metadata": {
        "colab": {
          "base_uri": "https://localhost:8080/",
          "height": 392
        },
        "id": "gs3pDb_tJsoy",
        "outputId": "c032fac0-e562-4ef3-bcdd-1135a0dd82bd"
      },
      "source": [
        "plt.figure(figsize=(15, 6))\n",
        "plt.plot(pr, sp_time[0] / np.array(sp_time))\n",
        "plt.xlabel('Number of processes', size=14)\n",
        "plt.ylabel('Speedup', size=14)\n",
        "plt.grid(True);"
      ],
      "execution_count": 12,
      "outputs": [
        {
          "output_type": "display_data",
          "data": {
            "image/png": "[encoded data removed]",
            "text/plain": [
              "<Figure size 1080x432 with 1 Axes>"
            ]
          },
          "metadata": {
            "needs_background": "light"
          }
        }
      ]
    }
  ]
}